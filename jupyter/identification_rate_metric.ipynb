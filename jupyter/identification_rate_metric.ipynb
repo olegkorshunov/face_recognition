{
 "cells": [
  {
   "cell_type": "code",
   "execution_count": 1,
   "metadata": {},
   "outputs": [
    {
     "name": "stdout",
     "output_type": "stream",
     "text": [
      "/mnt/e/projects/face_recognition\n"
     ]
    }
   ],
   "source": [
    "%cd .."
   ]
  },
  {
   "cell_type": "code",
   "execution_count": 2,
   "metadata": {},
   "outputs": [],
   "source": [
    "import os\n",
    "from collections import defaultdict\n",
    "\n",
    "import albumentations as A\n",
    "import cv2\n",
    "import matplotlib.pyplot as plt\n",
    "import numpy as np\n",
    "import pandas as pd\n",
    "import torch\n",
    "import torch.nn as nn\n",
    "from albumentations.pytorch import ToTensorV2\n",
    "from IPython.display import clear_output\n",
    "from sklearn.metrics.pairwise import cosine_similarity\n",
    "from torch.utils.data import Dataset\n",
    "from torchvision.models import efficientnet_v2_s\n",
    "\n",
    "from dataset import get_data_train_and_data_irm, split_by_person\n",
    "\n",
    "from config import CFG\n",
    "\n",
    "device = \"cuda\""
   ]
  },
  {
   "cell_type": "code",
   "execution_count": 3,
   "metadata": {},
   "outputs": [
    {
     "name": "stdout",
     "output_type": "stream",
     "text": [
      "Число уникальных людей 10174. Всего фото 194716\n",
      "Датасет для тренировки содержит 2026 людей\n",
      "data 194716 -> train_data 60015 data_irm 134701\n",
      "query_df 120 distractors_df 480\n"
     ]
    }
   ],
   "source": [
    "train_data, data_irm = get_data_train_and_data_irm()\n",
    "query_df, distractors_df = split_by_person(data_irm)"
   ]
  },
  {
   "cell_type": "code",
   "execution_count": 4,
   "metadata": {},
   "outputs": [
    {
     "data": {
      "text/html": [
       "<div>\n",
       "<style scoped>\n",
       "    .dataframe tbody tr th:only-of-type {\n",
       "        vertical-align: middle;\n",
       "    }\n",
       "\n",
       "    .dataframe tbody tr th {\n",
       "        vertical-align: top;\n",
       "    }\n",
       "\n",
       "    .dataframe thead th {\n",
       "        text-align: right;\n",
       "    }\n",
       "</style>\n",
       "<table border=\"1\" class=\"dataframe\">\n",
       "  <thead>\n",
       "    <tr style=\"text-align: right;\">\n",
       "      <th></th>\n",
       "      <th>path</th>\n",
       "      <th>is_query</th>\n",
       "      <th>is_gallery</th>\n",
       "      <th>label</th>\n",
       "      <th>split</th>\n",
       "    </tr>\n",
       "  </thead>\n",
       "  <tbody>\n",
       "    <tr>\n",
       "      <th>0</th>\n",
       "      <td>174098.jpg</td>\n",
       "      <td>None</td>\n",
       "      <td>None</td>\n",
       "      <td>97</td>\n",
       "      <td>valid</td>\n",
       "    </tr>\n",
       "    <tr>\n",
       "      <th>1</th>\n",
       "      <td>180366.jpg</td>\n",
       "      <td>None</td>\n",
       "      <td>None</td>\n",
       "      <td>97</td>\n",
       "      <td>valid</td>\n",
       "    </tr>\n",
       "    <tr>\n",
       "      <th>2</th>\n",
       "      <td>174972.jpg</td>\n",
       "      <td>None</td>\n",
       "      <td>None</td>\n",
       "      <td>97</td>\n",
       "      <td>valid</td>\n",
       "    </tr>\n",
       "    <tr>\n",
       "      <th>3</th>\n",
       "      <td>118283.jpg</td>\n",
       "      <td>None</td>\n",
       "      <td>None</td>\n",
       "      <td>10173</td>\n",
       "      <td>valid</td>\n",
       "    </tr>\n",
       "    <tr>\n",
       "      <th>4</th>\n",
       "      <td>126102.jpg</td>\n",
       "      <td>None</td>\n",
       "      <td>None</td>\n",
       "      <td>10173</td>\n",
       "      <td>valid</td>\n",
       "    </tr>\n",
       "  </tbody>\n",
       "</table>\n",
       "</div>"
      ],
      "text/plain": [
       "         path is_query is_gallery  label  split\n",
       "0  174098.jpg     None       None     97  valid\n",
       "1  180366.jpg     None       None     97  valid\n",
       "2  174972.jpg     None       None     97  valid\n",
       "3  118283.jpg     None       None  10173  valid\n",
       "4  126102.jpg     None       None  10173  valid"
      ]
     },
     "execution_count": 4,
     "metadata": {},
     "output_type": "execute_result"
    }
   ],
   "source": [
    "query_df.head(5)"
   ]
  },
  {
   "cell_type": "code",
   "execution_count": 5,
   "metadata": {},
   "outputs": [],
   "source": [
    "query_img_names = [os.path.join(CFG.img_folder_dst, x) for x in query_df[\"path\"].values]\n",
    "\n",
    "query_dict = defaultdict(list)\n",
    "for img_name, img_class in query_df[[\"path\", \"is_query\"]].values:\n",
    "    query_dict[img_class].append(img_name)\n",
    "\n",
    "distractors_img_names = [os.path.join(CFG.img_folder_dst, x) for x in distractors_df[\"path\"].values]"
   ]
  },
  {
   "cell_type": "code",
   "execution_count": 6,
   "metadata": {},
   "outputs": [],
   "source": [
    "best_model = efficientnet_v2_s()\n",
    "best_model.classifier = nn.Sequential(nn.Dropout(p=0.2), nn.Linear(in_features=1280, out_features=2024))\n",
    "best_model.load_state_dict(torch.load(\"models/efficientnet_v2_s_ce_10_epoch.pth\"))\n",
    "best_model.classifier = nn.Sequential()\n",
    "best_model.eval()\n",
    "None"
   ]
  },
  {
   "cell_type": "code",
   "execution_count": 7,
   "metadata": {},
   "outputs": [],
   "source": [
    "class celebAIrDataset(Dataset):\n",
    "    def __init__(self, images_list):\n",
    "        self.images = images_list\n",
    "        self.transform = A.Compose(\n",
    "            [\n",
    "                # A.Resize(height=128, width=128),\n",
    "                A.Normalize(mean=(0.485, 0.456, 0.406), std=(0.229, 0.224, 0.225)),\n",
    "                ToTensorV2(),\n",
    "            ]\n",
    "        )\n",
    "\n",
    "    def __len__(self):\n",
    "        return len(self.images)\n",
    "\n",
    "    def get_img(self, img_path):\n",
    "        img = cv2.imread(img_path)\n",
    "        img = cv2.cvtColor(img, cv2.COLOR_BGR2RGB)\n",
    "        return self.transform(image=img)[\"image\"]\n",
    "\n",
    "    def get_tensors(self):\n",
    "        images = torch.stack([self.get_img(img_name) for img_name in self.images])\n",
    "        return images\n",
    "\n",
    "    def __getitem__(self, idx):\n",
    "        img_name = self.images[idx]\n",
    "        return self.get_img(img_name)"
   ]
  },
  {
   "cell_type": "code",
   "execution_count": 8,
   "metadata": {},
   "outputs": [],
   "source": [
    "def compute_embeddings(model, images_list):\n",
    "    \"\"\"\n",
    "    compute embeddings from the trained model for list of images.\n",
    "    params:\n",
    "      model: trained nn model that takes images and outputs embeddings\n",
    "      images_list: list of images paths to compute embeddings for\n",
    "    output:\n",
    "      list: list of model embeddings. Each embedding corresponds to images\n",
    "            names from images_list\n",
    "    \"\"\"\n",
    "    data = celebAIrDataset(images_list)\n",
    "\n",
    "    model.to(device)\n",
    "\n",
    "    # loader = torch.utils.data.DataLoader(data.get_tensors(), batch_size=32, shuffle=False)\n",
    "    loader = torch.utils.data.DataLoader(data, batch_size=32, shuffle=False)\n",
    "\n",
    "    model.eval()\n",
    "    embeddings = []\n",
    "    with torch.no_grad():\n",
    "        for x in loader:\n",
    "            outputs = model(x.to(device))\n",
    "            embeddings.append(outputs.cpu())\n",
    "    return torch.cat(embeddings)"
   ]
  },
  {
   "cell_type": "code",
   "execution_count": 9,
   "metadata": {},
   "outputs": [],
   "source": [
    "query_embeddings = compute_embeddings(best_model, query_img_names)\n",
    "distractors_embeddings = compute_embeddings(best_model, distractors_img_names)"
   ]
  },
  {
   "cell_type": "code",
   "execution_count": 10,
   "metadata": {},
   "outputs": [
    {
     "data": {
      "text/plain": [
       "(torch.Size([480, 1280]), torch.Size([120, 1280]))"
      ]
     },
     "execution_count": 10,
     "metadata": {},
     "output_type": "execute_result"
    }
   ],
   "source": [
    "distractors_embeddings.size(), query_embeddings.size()"
   ]
  },
  {
   "cell_type": "code",
   "execution_count": 11,
   "metadata": {},
   "outputs": [],
   "source": [
    "def compute_cosine_query_pos(query_dict, query_img_names, query_embeddings):\n",
    "    \"\"\"\n",
    "    compute cosine similarities between positive pairs from query (stage 1)\n",
    "    params:\n",
    "      query_dict: dict {class: [image_name_1, image_name_2, ...]}. Key: class in\n",
    "                  the dataset. Value: images corresponding to that class\n",
    "      query_img_names: list of images names\n",
    "      query_embeddings: list of embeddings corresponding to query_img_names\n",
    "    output:\n",
    "      list of floats: similarities between embeddings corresponding\n",
    "                      to the same people from query list\n",
    "    \"\"\"\n",
    "    full_embeddings = torch.Tensor()\n",
    "\n",
    "    for person_class in query_dict:\n",
    "        images = [os.path.join(CFG.img_folder_dst, x) for x in query_dict[person_class]]\n",
    "        person_embeddings = []\n",
    "        for image_path in images:\n",
    "            person_embeddings.append(torch.Tensor(query_embeddings[query_img_names.index(image_path)]))\n",
    "        if len(person_embeddings) == 0:\n",
    "            person_embeddings = torch.Tensor\n",
    "            result = 0.0\n",
    "        else:\n",
    "            person_embeddings = torch.stack(person_embeddings)\n",
    "            result = cosine_similarity(np.array(person_embeddings), np.array(person_embeddings))\n",
    "            df = pd.DataFrame(result)\n",
    "\n",
    "            df = df.mask(np.tril(np.ones(df.shape, dtype=np.bool_))).values.reshape(-1)  # get triangle values\n",
    "            useful_result = df[~np.isnan(df)]  # drop nan\n",
    "\n",
    "            useful_result = torch.Tensor(useful_result).view(-1)\n",
    "            full_embeddings = torch.cat((full_embeddings, useful_result))\n",
    "    results = [i.item() for i in full_embeddings]\n",
    "    plt.hist(results)\n",
    "    plt.show()\n",
    "    print(\"Count of cosine similarities =\", len(results))\n",
    "    return results"
   ]
  },
  {
   "cell_type": "code",
   "execution_count": 12,
   "metadata": {},
   "outputs": [],
   "source": [
    "def compute_cosine_query_neg(query_dict, query_img_names, query_embeddings):\n",
    "    \"\"\"\n",
    "    compute cosine similarities between negative pairs from query (stage 2)\n",
    "    params:\n",
    "      query_dict: dict {class: [image_name_1, image_name_2, ...]}. Key: class in\n",
    "                  the dataset. Value: images corresponding to that class\n",
    "      query_img_names: list of images names\n",
    "      query_embeddings: list of embeddings corresponding to query_img_names\n",
    "    output:\n",
    "      list of floats: similarities between embeddings corresponding\n",
    "                      to different people from query list\n",
    "    \"\"\"\n",
    "\n",
    "    full_embeddings = torch.Tensor()\n",
    "    class_counter = []\n",
    "\n",
    "    k = 0\n",
    "    for person_class in query_dict:\n",
    "        k += 1\n",
    "        print(\"Analyse {} person of {}...\".format(k, len(query_dict)))\n",
    "        images = [os.path.join(CFG.img_folder_dst, x) for x in query_dict[person_class]]\n",
    "        class_counter.extend([person_class for _ in range(len(images))])\n",
    "\n",
    "        person_embeddings = []\n",
    "        for image_path in images:\n",
    "            person_embeddings.append(torch.Tensor(query_embeddings[query_img_names.index(image_path)]))\n",
    "        if len(person_embeddings) == 0:\n",
    "            person_embeddings = torch.Tensor\n",
    "        else:\n",
    "            person_embeddings = torch.stack(person_embeddings)\n",
    "            full_embeddings = torch.cat((full_embeddings, person_embeddings))\n",
    "        clear_output(wait=True)\n",
    "\n",
    "    # all_data = pd.DataFrame(data={\"class\": class_counter, \"embeddings\": list(full_embeddings)})\n",
    "    results = cosine_similarity(full_embeddings, full_embeddings)\n",
    "    results = pd.DataFrame(data=results, index=class_counter, columns=class_counter)\n",
    "\n",
    "    k = 0\n",
    "    for i in results:\n",
    "        k += 1\n",
    "        print(\"Analyse {} row of {}...\".format(k, len(results)))\n",
    "        results.loc[i, i] = np.nan\n",
    "        clear_output(wait=True)\n",
    "\n",
    "    df = results.mask(np.tril(np.ones(results.shape, dtype=np.bool_))).values.reshape(-1)  # get triangle values\n",
    "    useful_result = df[~np.isnan(df)]  # drop nan\n",
    "    plt.hist(useful_result)\n",
    "    plt.show()\n",
    "    print(\"Count of cosine similarities =\", len(useful_result))\n",
    "    return useful_result"
   ]
  },
  {
   "cell_type": "code",
   "execution_count": 13,
   "metadata": {},
   "outputs": [],
   "source": [
    "def compute_cosine_query_distractors(query_embeddings, distractors_embeddings):\n",
    "    \"\"\"\n",
    "    compute cosine similarities between negative pairs from query and distractors\n",
    "    (stage 3)\n",
    "    params:\n",
    "      query_embeddings: list of embeddings corresponding to query_img_names\n",
    "      distractors_embeddings: list of embeddings corresponding to distractors_img_names\n",
    "    output:\n",
    "      list of floats: similarities between pairs of people (q, d), where q is\n",
    "                      embedding corresponding to photo from query, d —\n",
    "                      embedding corresponding to photo from distractors\n",
    "    \"\"\"\n",
    "    results = cosine_similarity(query_embeddings, distractors_embeddings)\n",
    "    results = results.reshape(-1)\n",
    "    plt.hist(results)\n",
    "    plt.show()\n",
    "    print(\"Count of cosine similarities =\", len(results))\n",
    "    return results"
   ]
  },
  {
   "cell_type": "code",
   "execution_count": 14,
   "metadata": {},
   "outputs": [
    {
     "data": {
      "image/png": "[encoded data removed]",
      "text/plain": [
       "<Figure size 640x480 with 1 Axes>"
      ]
     },
     "metadata": {},
     "output_type": "display_data"
    },
    {
     "name": "stdout",
     "output_type": "stream",
     "text": [
      "Count of cosine similarities = 7140\n"
     ]
    }
   ],
   "source": [
    "cosine_query_pos = compute_cosine_query_pos(query_dict, query_img_names, query_embeddings)"
   ]
  },
  {
   "cell_type": "code",
   "execution_count": 15,
   "metadata": {},
   "outputs": [
    {
     "data": {
      "image/png": "[encoded data removed]",
      "text/plain": [
       "<Figure size 640x480 with 1 Axes>"
      ]
     },
     "metadata": {},
     "output_type": "display_data"
    },
    {
     "name": "stdout",
     "output_type": "stream",
     "text": [
      "Count of cosine similarities = 0\n"
     ]
    }
   ],
   "source": [
    "cosine_query_neg = compute_cosine_query_neg(query_dict, query_img_names, query_embeddings)"
   ]
  },
  {
   "cell_type": "code",
   "execution_count": 16,
   "metadata": {},
   "outputs": [
    {
     "data": {
      "image/png": "[encoded data removed]",
      "text/plain": [
       "<Figure size 640x480 with 1 Axes>"
      ]
     },
     "metadata": {},
     "output_type": "display_data"
    },
    {
     "name": "stdout",
     "output_type": "stream",
     "text": [
      "Count of cosine similarities = 57600\n"
     ]
    }
   ],
   "source": [
    "cosine_query_distractors = compute_cosine_query_distractors(query_embeddings, distractors_embeddings)"
   ]
  },
  {
   "cell_type": "code",
   "execution_count": 17,
   "metadata": {},
   "outputs": [],
   "source": [
    "def compute_ir(cosine_query_pos, cosine_query_neg, cosine_query_distractors, fpr=0.1):\n",
    "    \"\"\"\n",
    "    compute identification rate using precomputer cosine similarities between pairs\n",
    "    at given fpr\n",
    "    params:\n",
    "      cosine_query_pos: cosine similarities between positive pairs from query\n",
    "      cosine_query_neg: cosine similarities between negative pairs from query\n",
    "      cosine_query_distractors: cosine similarities between negative pairs\n",
    "                                from query and distractors\n",
    "      fpr: false positive rate at which to compute TPR\n",
    "    output:\n",
    "      float: threshold for given fpr\n",
    "      float: TPR at given FPR\n",
    "    \"\"\"\n",
    "    cosine_query_pos = torch.Tensor(cosine_query_pos)\n",
    "    cosine_query_neg = torch.Tensor(cosine_query_neg)\n",
    "    cosine_query_distractors = torch.Tensor(cosine_query_distractors)\n",
    "\n",
    "    false_pairs = torch.cat((cosine_query_neg, cosine_query_distractors))\n",
    "    N = round(fpr * len(false_pairs))\n",
    "    false_pairs = torch.sort(false_pairs, descending=True)[0]\n",
    "    threshold = false_pairs[N]\n",
    "    TPR = len(cosine_query_pos[cosine_query_pos > threshold]) / len(cosine_query_pos)\n",
    "    return threshold.item(), TPR"
   ]
  },
  {
   "cell_type": "code",
   "execution_count": 18,
   "metadata": {},
   "outputs": [
    {
     "name": "stdout",
     "output_type": "stream",
     "text": [
      "(0.13672997057437897, 0.480812324929972)\n",
      "(0.10480313748121262, 0.5813725490196079)\n",
      "(0.07190364599227905, 0.6908963585434174)\n",
      "(0.03602030500769615, 0.7963585434173669)\n"
     ]
    }
   ],
   "source": [
    "# фух компуктер не взорвался, но моя голова да\n",
    "for frp in [0.5, 0.6, 0.7, 0.8]:\n",
    "    print(compute_ir(cosine_query_pos, cosine_query_neg, cosine_query_distractors, frp))"
   ]
  },
  {
   "cell_type": "code",
   "execution_count": null,
   "metadata": {},
   "outputs": [],
   "source": []
  }
 ],
 "metadata": {
  "kernelspec": {
   "display_name": "main",
   "language": "python",
   "name": "python3"
  },
  "language_info": {
   "codemirror_mode": {
    "name": "ipython",
    "version": 3
   },
   "file_extension": ".py",
   "mimetype": "text/x-python",
   "name": "python",
   "nbconvert_exporter": "python",
   "pygments_lexer": "ipython3",
   "version": "3.1.-1"
  }
 },
 "nbformat": 4,
 "nbformat_minor": 2
}
