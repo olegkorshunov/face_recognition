{
 "cells": [
  {
   "cell_type": "code",
   "execution_count": 1,
   "metadata": {},
   "outputs": [
    {
     "name": "stdout",
     "output_type": "stream",
     "text": [
      "/mnt/e/projects/face_recognition\n"
     ]
    }
   ],
   "source": [
    "%cd .."
   ]
  },
  {
   "cell_type": "code",
   "execution_count": 2,
   "metadata": {},
   "outputs": [],
   "source": [
    "import os\n",
    "import types\n",
    "from collections import defaultdict\n",
    "\n",
    "import albumentations as A\n",
    "import cv2\n",
    "import matplotlib.pyplot as plt\n",
    "import numpy as np\n",
    "import pandas as pd\n",
    "import torch\n",
    "import torch.nn as nn\n",
    "from albumentations.pytorch import ToTensorV2\n",
    "from IPython.display import clear_output\n",
    "from PIL import Image\n",
    "from sklearn.metrics.pairwise import cosine_similarity\n",
    "from sklearn.model_selection import train_test_split\n",
    "from torch.utils.data import DataLoader, Dataset\n",
    "from torchvision.models import efficientnet_v2_s\n",
    "\n",
    "from config import CFG\n",
    "\n",
    "device = \"cuda\""
   ]
  },
  {
   "cell_type": "code",
   "execution_count": 3,
   "metadata": {},
   "outputs": [
    {
     "name": "stdout",
     "output_type": "stream",
     "text": [
      "Число уникальных людей 10174, каждый человек имеет, как минимум 28 фоток.\n",
      "Всего фоток в data_train 59959\n",
      "Всего фоток в data_irm 134757\n",
      "df(59959) -> train(43767) val(8096) test(8096)\n"
     ]
    }
   ],
   "source": [
    "def get_dataset_and_filter_by_label_trashold_for_irt(label_trashold):\n",
    "    df_identity = pd.read_csv(CFG.identity_path, sep=\" \", header=None).sort_values(by=0).reset_index(drop=True)\n",
    "    df_identity.columns = [\"image\", \"label\"]\n",
    "    cropped_imgs = os.listdir(CFG.img_folder_dst)\n",
    "    data = pd.DataFrame({\"image\": cropped_imgs})\n",
    "    data = data.join(df_identity.set_index(\"image\"), on=\"image\", how=\"left\")\n",
    "    data_tmp = data.groupby([\"label\"]).agg({\"label\": \"count\"}).rename(columns={\"label\": \"label_count\"})\n",
    "    print(f\"Число уникальных людей {len(data_tmp)}, каждый человек имеет, как минимум {label_trashold} фоток.\")\n",
    "\n",
    "    del_label = data_tmp.loc[data_tmp.label_count <= label_trashold, :].index.values\n",
    "    mask = data[\"label\"].isin(set(del_label))\n",
    "\n",
    "    data_train = data[~mask].reset_index(drop=True)\n",
    "    print(f\"Всего фоток в data_train {len(data_train)}\")\n",
    "    df_labels = data_train[\"label\"].unique()\n",
    "    map_lables = {l: i for i, l in enumerate(df_labels)}\n",
    "    data_train[\"label\"] = data_train[\"label\"].map(lambda x: map_lables[x])\n",
    "\n",
    "    data_irm = data[mask].reset_index(drop=True)\n",
    "    print(f\"Всего фоток в data_irm {len(data_irm)}\")\n",
    "    df_labels = data_irm[\"label\"].unique()\n",
    "    map_lables = {l: i for i, l in enumerate(df_labels)}\n",
    "    data_irm[\"label\"] = data_irm[\"label\"].map(lambda x: map_lables[x])\n",
    "\n",
    "    return data_train, data_irm\n",
    "\n",
    "\n",
    "def split_dataset_by_photo(df, label_col, num_val_samples_per_class):\n",
    "    validation_data = []\n",
    "    train_data = []\n",
    "    test_data = []\n",
    "\n",
    "    for label in df[label_col].unique():\n",
    "        label_data = df[df[label_col] == label]\n",
    "\n",
    "        val_samples = label_data.sample(num_val_samples_per_class)\n",
    "        validation_data.append(val_samples)\n",
    "        label_data = label_data.drop(val_samples.index)\n",
    "\n",
    "        test_samples = label_data.sample(num_val_samples_per_class)\n",
    "        test_data.append(test_samples)\n",
    "        label_data = label_data.drop(test_samples.index)\n",
    "\n",
    "        train_data.append(label_data)\n",
    "\n",
    "    train_df = pd.concat(train_data).reset_index(drop=True)\n",
    "    validation_df = pd.concat(validation_data).reset_index(drop=True)\n",
    "    test_df = pd.concat(test_data).reset_index(drop=True)\n",
    "    print(f\"df({len(df)}) -> train({len(train_df)}) val({len(validation_df)}) test({len(test_df)})\")\n",
    "\n",
    "    return train_df, validation_df, test_df\n",
    "\n",
    "\n",
    "# Split the dataset\n",
    "\n",
    "data, data_irm = get_dataset_and_filter_by_label_trashold_for_irt(label_trashold=CFG.label_trashold)\n",
    "\n",
    "df_train, df_val, df_test = split_dataset_by_photo(data, \"label\", 4)"
   ]
  },
  {
   "cell_type": "code",
   "execution_count": 4,
   "metadata": {},
   "outputs": [
    {
     "data": {
      "text/html": [
       "<div>\n",
       "<style scoped>\n",
       "    .dataframe tbody tr th:only-of-type {\n",
       "        vertical-align: middle;\n",
       "    }\n",
       "\n",
       "    .dataframe tbody tr th {\n",
       "        vertical-align: top;\n",
       "    }\n",
       "\n",
       "    .dataframe thead th {\n",
       "        text-align: right;\n",
       "    }\n",
       "</style>\n",
       "<table border=\"1\" class=\"dataframe\">\n",
       "  <thead>\n",
       "    <tr style=\"text-align: right;\">\n",
       "      <th></th>\n",
       "      <th>label_count</th>\n",
       "    </tr>\n",
       "    <tr>\n",
       "      <th>label</th>\n",
       "      <th></th>\n",
       "    </tr>\n",
       "  </thead>\n",
       "  <tbody>\n",
       "    <tr>\n",
       "      <th>5</th>\n",
       "      <td>29</td>\n",
       "    </tr>\n",
       "    <tr>\n",
       "      <th>6</th>\n",
       "      <td>29</td>\n",
       "    </tr>\n",
       "  </tbody>\n",
       "</table>\n",
       "</div>"
      ],
      "text/plain": [
       "       label_count\n",
       "label             \n",
       "5               29\n",
       "6               29"
      ]
     },
     "execution_count": 4,
     "metadata": {},
     "output_type": "execute_result"
    }
   ],
   "source": [
    "data.groupby([\"label\"]).agg({\"label\": \"count\"}).rename(columns={\"label\": \"label_count\"}).sort_values(\n",
    "    by=\"label_count\", ascending=True\n",
    ").head(2)"
   ]
  },
  {
   "cell_type": "code",
   "execution_count": 5,
   "metadata": {},
   "outputs": [
    {
     "data": {
      "text/html": [
       "<div>\n",
       "<style scoped>\n",
       "    .dataframe tbody tr th:only-of-type {\n",
       "        vertical-align: middle;\n",
       "    }\n",
       "\n",
       "    .dataframe tbody tr th {\n",
       "        vertical-align: top;\n",
       "    }\n",
       "\n",
       "    .dataframe thead th {\n",
       "        text-align: right;\n",
       "    }\n",
       "</style>\n",
       "<table border=\"1\" class=\"dataframe\">\n",
       "  <thead>\n",
       "    <tr style=\"text-align: right;\">\n",
       "      <th></th>\n",
       "      <th>label_count</th>\n",
       "    </tr>\n",
       "    <tr>\n",
       "      <th>label</th>\n",
       "      <th></th>\n",
       "    </tr>\n",
       "  </thead>\n",
       "  <tbody>\n",
       "    <tr>\n",
       "      <th>2931</th>\n",
       "      <td>28</td>\n",
       "    </tr>\n",
       "    <tr>\n",
       "      <th>2919</th>\n",
       "      <td>28</td>\n",
       "    </tr>\n",
       "  </tbody>\n",
       "</table>\n",
       "</div>"
      ],
      "text/plain": [
       "       label_count\n",
       "label             \n",
       "2931            28\n",
       "2919            28"
      ]
     },
     "execution_count": 5,
     "metadata": {},
     "output_type": "execute_result"
    }
   ],
   "source": [
    "data_irm.groupby([\"label\"]).agg({\"label\": \"count\"}).rename(columns={\"label\": \"label_count\"}).sort_values(\n",
    "    by=\"label_count\", ascending=False\n",
    ").head(2)"
   ]
  },
  {
   "cell_type": "code",
   "execution_count": 6,
   "metadata": {},
   "outputs": [],
   "source": [
    "def split_by_person(data_irm: pd.DataFrame):\n",
    "    \"\"\"\n",
    "    Сплит по людям\n",
    "    итак train_baseline тренили на 2024 людях\n",
    "    для irm возмём 200(40 query + 160 distractors) людей\n",
    "    и у них по 3 фоток\n",
    "\n",
    "    TODO: Отрефакотрить что бы всё красиво было, а не руками задавали\n",
    "    \"\"\"\n",
    "\n",
    "    data_label_count = (\n",
    "        data_irm.groupby([\"label\"])\n",
    "        .agg({\"label\": \"count\"})\n",
    "        .rename(columns={\"label\": \"label_count\"})\n",
    "        .sort_values(by=\"label_count\", ascending=False)\n",
    "    )\n",
    "\n",
    "    query_label_set = data_label_count.head(40)\n",
    "    data_label_count = data_label_count.drop(query_label_set.index)\n",
    "    distractors_label_set = data_label_count.head(160)\n",
    "\n",
    "    query_list = []\n",
    "    distractors_list = []\n",
    "\n",
    "    for label in query_label_set.index:\n",
    "        label_data = data_irm[data_irm[\"label\"] == label]\n",
    "        query_list.append(label_data.sample(3))\n",
    "\n",
    "    for label in distractors_label_set.index:\n",
    "        label_data = data_irm[data_irm[\"label\"] == label]\n",
    "        distractors_list.append(label_data.sample(3))\n",
    "\n",
    "    query_df = pd.concat(query_list).reset_index(drop=True)\n",
    "    distractors_df = pd.concat(distractors_list).reset_index(drop=True)\n",
    "    # проверка что датасеты не пересекаются\n",
    "    assert bool(set(query_df[\"label\"]) & set(distractors_df[\"label\"])) is False\n",
    "\n",
    "    return query_df, distractors_df\n",
    "\n",
    "\n",
    "query_df, distractors_df = split_by_person(data_irm)"
   ]
  },
  {
   "cell_type": "code",
   "execution_count": 7,
   "metadata": {},
   "outputs": [
    {
     "data": {
      "text/html": [
       "<div>\n",
       "<style scoped>\n",
       "    .dataframe tbody tr th:only-of-type {\n",
       "        vertical-align: middle;\n",
       "    }\n",
       "\n",
       "    .dataframe tbody tr th {\n",
       "        vertical-align: top;\n",
       "    }\n",
       "\n",
       "    .dataframe thead th {\n",
       "        text-align: right;\n",
       "    }\n",
       "</style>\n",
       "<table border=\"1\" class=\"dataframe\">\n",
       "  <thead>\n",
       "    <tr style=\"text-align: right;\">\n",
       "      <th></th>\n",
       "      <th>image</th>\n",
       "      <th>label</th>\n",
       "    </tr>\n",
       "  </thead>\n",
       "  <tbody>\n",
       "    <tr>\n",
       "      <th>0</th>\n",
       "      <td>068313.jpg</td>\n",
       "      <td>2931</td>\n",
       "    </tr>\n",
       "    <tr>\n",
       "      <th>1</th>\n",
       "      <td>152125.jpg</td>\n",
       "      <td>2931</td>\n",
       "    </tr>\n",
       "    <tr>\n",
       "      <th>2</th>\n",
       "      <td>080835.jpg</td>\n",
       "      <td>2931</td>\n",
       "    </tr>\n",
       "    <tr>\n",
       "      <th>3</th>\n",
       "      <td>070294.jpg</td>\n",
       "      <td>2919</td>\n",
       "    </tr>\n",
       "    <tr>\n",
       "      <th>4</th>\n",
       "      <td>060299.jpg</td>\n",
       "      <td>2919</td>\n",
       "    </tr>\n",
       "  </tbody>\n",
       "</table>\n",
       "</div>"
      ],
      "text/plain": [
       "        image  label\n",
       "0  068313.jpg   2931\n",
       "1  152125.jpg   2931\n",
       "2  080835.jpg   2931\n",
       "3  070294.jpg   2919\n",
       "4  060299.jpg   2919"
      ]
     },
     "execution_count": 7,
     "metadata": {},
     "output_type": "execute_result"
    }
   ],
   "source": [
    "query_df.head(5)"
   ]
  },
  {
   "cell_type": "code",
   "execution_count": 8,
   "metadata": {},
   "outputs": [],
   "source": [
    "query_img_names = [os.path.join(CFG.img_folder_dst, x) for x in query_df[\"image\"].values]\n",
    "\n",
    "query_dict = defaultdict(list)\n",
    "for img_name, img_class in query_df.values:\n",
    "    query_dict[img_class].append(img_name)\n",
    "\n",
    "distractors_img_names = [os.path.join(CFG.img_folder_dst, x) for x in distractors_df[\"image\"].values]"
   ]
  },
  {
   "cell_type": "code",
   "execution_count": 9,
   "metadata": {},
   "outputs": [],
   "source": [
    "best_model = efficientnet_v2_s()\n",
    "best_model.classifier = nn.Sequential(nn.Dropout(p=0.2), nn.Linear(in_features=1280, out_features=2024))\n",
    "best_model.load_state_dict(torch.load(\"models/efficientnet_v2_s_ce_10_epoch.pth\"))\n",
    "best_model.classifier = nn.Sequential()\n",
    "best_model.eval()\n",
    "None"
   ]
  },
  {
   "cell_type": "code",
   "execution_count": 10,
   "metadata": {},
   "outputs": [],
   "source": [
    "class celebAIrDataset(Dataset):\n",
    "    def __init__(self, images_list):\n",
    "        self.images = images_list\n",
    "        self.transform = A.Compose(\n",
    "            [\n",
    "                # A.Resize(height=128, width=128),\n",
    "                A.Normalize(mean=(0.485, 0.456, 0.406), std=(0.229, 0.224, 0.225)),\n",
    "                ToTensorV2(),\n",
    "            ]\n",
    "        )\n",
    "\n",
    "    def __len__(self):\n",
    "        return len(self.images)\n",
    "\n",
    "    def get_img(self, img_path):\n",
    "        img = cv2.imread(img_path)\n",
    "        img = cv2.cvtColor(img, cv2.COLOR_BGR2RGB)\n",
    "        return self.transform(image=img)[\"image\"]\n",
    "\n",
    "    def get_tensors(self):\n",
    "        images = torch.stack([self.get_img(img_name) for img_name in self.images])\n",
    "        return images\n",
    "\n",
    "    def __getitem__(self, idx):\n",
    "        img_name = self.images[idx]\n",
    "        return self.get_img(img_name)"
   ]
  },
  {
   "cell_type": "code",
   "execution_count": 11,
   "metadata": {},
   "outputs": [],
   "source": [
    "def compute_embeddings(model, images_list):\n",
    "    \"\"\"\n",
    "    compute embeddings from the trained model for list of images.\n",
    "    params:\n",
    "      model: trained nn model that takes images and outputs embeddings\n",
    "      images_list: list of images paths to compute embeddings for\n",
    "    output:\n",
    "      list: list of model embeddings. Each embedding corresponds to images\n",
    "            names from images_list\n",
    "    \"\"\"\n",
    "    data = celebAIrDataset(images_list)\n",
    "\n",
    "    model.to(device)\n",
    "\n",
    "    # loader = torch.utils.data.DataLoader(data.get_tensors(), batch_size=32, shuffle=False)\n",
    "    loader = torch.utils.data.DataLoader(data, batch_size=32, shuffle=False)\n",
    "\n",
    "    model.eval()\n",
    "    embeddings = []\n",
    "    with torch.no_grad():\n",
    "        for x in loader:\n",
    "            outputs = model(x.to(device))\n",
    "            embeddings.append(outputs.cpu())\n",
    "    return torch.cat(embeddings)"
   ]
  },
  {
   "cell_type": "code",
   "execution_count": 12,
   "metadata": {},
   "outputs": [],
   "source": [
    "query_embeddings = compute_embeddings(best_model, query_img_names)\n",
    "distractors_embeddings = compute_embeddings(best_model, distractors_img_names)"
   ]
  },
  {
   "cell_type": "code",
   "execution_count": 13,
   "metadata": {},
   "outputs": [
    {
     "data": {
      "text/plain": [
       "(torch.Size([480, 1280]), torch.Size([120, 1280]))"
      ]
     },
     "execution_count": 13,
     "metadata": {},
     "output_type": "execute_result"
    }
   ],
   "source": [
    "distractors_embeddings.size(), query_embeddings.size()"
   ]
  },
  {
   "cell_type": "code",
   "execution_count": 14,
   "metadata": {},
   "outputs": [],
   "source": [
    "def compute_cosine_query_pos(query_dict, query_img_names, query_embeddings):\n",
    "    \"\"\"\n",
    "    compute cosine similarities between positive pairs from query (stage 1)\n",
    "    params:\n",
    "      query_dict: dict {class: [image_name_1, image_name_2, ...]}. Key: class in\n",
    "                  the dataset. Value: images corresponding to that class\n",
    "      query_img_names: list of images names\n",
    "      query_embeddings: list of embeddings corresponding to query_img_names\n",
    "    output:\n",
    "      list of floats: similarities between embeddings corresponding\n",
    "                      to the same people from query list\n",
    "    \"\"\"\n",
    "    full_embeddings = torch.Tensor()\n",
    "\n",
    "    for person_class in query_dict:\n",
    "        images = [os.path.join(CFG.img_folder_dst, x) for x in query_dict[person_class]]\n",
    "        person_embeddings = []\n",
    "        for image_path in images:\n",
    "            person_embeddings.append(torch.Tensor(query_embeddings[query_img_names.index(image_path)]))\n",
    "        if len(person_embeddings) == 0:\n",
    "            person_embeddings = torch.Tensor\n",
    "            result = 0.0\n",
    "        else:\n",
    "            person_embeddings = torch.stack(person_embeddings)\n",
    "            result = cosine_similarity(np.array(person_embeddings), np.array(person_embeddings))\n",
    "            df = pd.DataFrame(result)\n",
    "\n",
    "            df = df.mask(np.tril(np.ones(df.shape, dtype=np.bool_))).values.reshape(-1)  # get triangle values\n",
    "            useful_result = df[~np.isnan(df)]  # drop nan\n",
    "\n",
    "            useful_result = torch.Tensor(useful_result).view(-1)\n",
    "            full_embeddings = torch.cat((full_embeddings, useful_result))\n",
    "    results = [i.item() for i in full_embeddings]\n",
    "    plt.hist(results)\n",
    "    plt.show()\n",
    "    print(\"Count of cosine similarities =\", len(results))\n",
    "    return results"
   ]
  },
  {
   "cell_type": "code",
   "execution_count": 15,
   "metadata": {},
   "outputs": [],
   "source": [
    "def compute_cosine_query_neg(query_dict, query_img_names, query_embeddings):\n",
    "    \"\"\"\n",
    "    compute cosine similarities between negative pairs from query (stage 2)\n",
    "    params:\n",
    "      query_dict: dict {class: [image_name_1, image_name_2, ...]}. Key: class in\n",
    "                  the dataset. Value: images corresponding to that class\n",
    "      query_img_names: list of images names\n",
    "      query_embeddings: list of embeddings corresponding to query_img_names\n",
    "    output:\n",
    "      list of floats: similarities between embeddings corresponding\n",
    "                      to different people from query list\n",
    "    \"\"\"\n",
    "\n",
    "    full_embeddings = torch.Tensor()\n",
    "    class_counter = []\n",
    "\n",
    "    k = 0\n",
    "    for person_class in query_dict:\n",
    "        k += 1\n",
    "        print(\"Analyse {} person of {}...\".format(k, len(query_dict)))\n",
    "        images = [os.path.join(CFG.img_folder_dst, x) for x in query_dict[person_class]]\n",
    "        class_counter.extend([person_class for _ in range(len(images))])\n",
    "\n",
    "        person_embeddings = []\n",
    "        for image_path in images:\n",
    "            person_embeddings.append(torch.Tensor(query_embeddings[query_img_names.index(image_path)]))\n",
    "        if len(person_embeddings) == 0:\n",
    "            person_embeddings = torch.Tensor\n",
    "        else:\n",
    "            person_embeddings = torch.stack(person_embeddings)\n",
    "            full_embeddings = torch.cat((full_embeddings, person_embeddings))\n",
    "        clear_output(wait=True)\n",
    "\n",
    "    # all_data = pd.DataFrame(data={\"class\": class_counter, \"embeddings\": list(full_embeddings)})\n",
    "    results = cosine_similarity(full_embeddings, full_embeddings)\n",
    "    results = pd.DataFrame(data=results, index=class_counter, columns=class_counter)\n",
    "\n",
    "    k = 0\n",
    "    for i in results:\n",
    "        k += 1\n",
    "        print(\"Analyse {} row of {}...\".format(k, len(results)))\n",
    "        results.loc[i, i] = np.nan\n",
    "        clear_output(wait=True)\n",
    "\n",
    "    df = results.mask(np.tril(np.ones(results.shape, dtype=np.bool_))).values.reshape(-1)  # get triangle values\n",
    "    useful_result = df[~np.isnan(df)]  # drop nan\n",
    "    plt.hist(useful_result)\n",
    "    plt.show()\n",
    "    print(\"Count of cosine similarities =\", len(useful_result))\n",
    "    return useful_result"
   ]
  },
  {
   "cell_type": "code",
   "execution_count": 16,
   "metadata": {},
   "outputs": [],
   "source": [
    "def compute_cosine_query_distractors(query_embeddings, distractors_embeddings):\n",
    "    \"\"\"\n",
    "    compute cosine similarities between negative pairs from query and distractors\n",
    "    (stage 3)\n",
    "    params:\n",
    "      query_embeddings: list of embeddings corresponding to query_img_names\n",
    "      distractors_embeddings: list of embeddings corresponding to distractors_img_names\n",
    "    output:\n",
    "      list of floats: similarities between pairs of people (q, d), where q is\n",
    "                      embedding corresponding to photo from query, d —\n",
    "                      embedding corresponding to photo from distractors\n",
    "    \"\"\"\n",
    "    results = cosine_similarity(query_embeddings, distractors_embeddings)\n",
    "    results = results.reshape(-1)\n",
    "    plt.hist(results)\n",
    "    plt.show()\n",
    "    print(\"Count of cosine similarities =\", len(results))\n",
    "    return results"
   ]
  },
  {
   "cell_type": "code",
   "execution_count": 17,
   "metadata": {},
   "outputs": [
    {
     "data": {
      "image/png": "[encoded data removed]",
      "text/plain": [
       "<Figure size 640x480 with 1 Axes>"
      ]
     },
     "metadata": {},
     "output_type": "display_data"
    },
    {
     "name": "stdout",
     "output_type": "stream",
     "text": [
      "Count of cosine similarities = 120\n"
     ]
    }
   ],
   "source": [
    "cosine_query_pos = compute_cosine_query_pos(query_dict, query_img_names, query_embeddings)"
   ]
  },
  {
   "cell_type": "code",
   "execution_count": 18,
   "metadata": {},
   "outputs": [
    {
     "data": {
      "image/png": "[encoded data removed]",
      "text/plain": [
       "<Figure size 640x480 with 1 Axes>"
      ]
     },
     "metadata": {},
     "output_type": "display_data"
    },
    {
     "name": "stdout",
     "output_type": "stream",
     "text": [
      "Count of cosine similarities = 7020\n"
     ]
    }
   ],
   "source": [
    "cosine_query_neg = compute_cosine_query_neg(query_dict, query_img_names, query_embeddings)"
   ]
  },
  {
   "cell_type": "code",
   "execution_count": 19,
   "metadata": {},
   "outputs": [
    {
     "data": {
      "image/png": "[encoded data removed]",
      "text/plain": [
       "<Figure size 640x480 with 1 Axes>"
      ]
     },
     "metadata": {},
     "output_type": "display_data"
    },
    {
     "name": "stdout",
     "output_type": "stream",
     "text": [
      "Count of cosine similarities = 57600\n"
     ]
    }
   ],
   "source": [
    "cosine_query_distractors = compute_cosine_query_distractors(query_embeddings, distractors_embeddings)"
   ]
  },
  {
   "cell_type": "code",
   "execution_count": 30,
   "metadata": {},
   "outputs": [],
   "source": [
    "def compute_ir(cosine_query_pos, cosine_query_neg, cosine_query_distractors, fpr=0.1):\n",
    "    \"\"\"\n",
    "    compute identification rate using precomputer cosine similarities between pairs\n",
    "    at given fpr\n",
    "    params:\n",
    "      cosine_query_pos: cosine similarities between positive pairs from query\n",
    "      cosine_query_neg: cosine similarities between negative pairs from query\n",
    "      cosine_query_distractors: cosine similarities between negative pairs\n",
    "                                from query and distractors\n",
    "      fpr: false positive rate at which to compute TPR\n",
    "    output:\n",
    "      float: threshold for given fpr\n",
    "      float: TPR at given FPR\n",
    "    \"\"\"\n",
    "    cosine_query_pos = torch.Tensor(cosine_query_pos)\n",
    "    cosine_query_neg = torch.Tensor(cosine_query_neg)\n",
    "    cosine_query_distractors = torch.Tensor(cosine_query_distractors)\n",
    "\n",
    "    false_pairs = torch.cat((cosine_query_neg, cosine_query_distractors))\n",
    "    N = round(fpr * len(false_pairs))\n",
    "    false_pairs = torch.sort(false_pairs, descending=True)[0]\n",
    "    threshold = false_pairs[N]\n",
    "    TPR = len(cosine_query_pos[cosine_query_pos > threshold]) / len(cosine_query_pos)\n",
    "    return threshold.item(), TPR"
   ]
  },
  {
   "cell_type": "code",
   "execution_count": 31,
   "metadata": {},
   "outputs": [
    {
     "name": "stdout",
     "output_type": "stream",
     "text": [
      "(0.14049921929836273, 0.9583333333333334)\n",
      "(0.25158241391181946, 0.9333333333333333)\n",
      "(0.31288713216781616, 0.8833333333333333)\n",
      "(0.36539188027381897, 0.7916666666666666)\n"
     ]
    }
   ],
   "source": [
    "# фух компуктер не взорвался, но моя голова да\n",
    "for frp in [0.5, 0.2, 0.1, 0.05]:\n",
    "    print(compute_ir(cosine_query_pos, cosine_query_neg, cosine_query_distractors, frp))"
   ]
  },
  {
   "cell_type": "code",
   "execution_count": null,
   "metadata": {},
   "outputs": [],
   "source": []
  }
 ],
 "metadata": {
  "kernelspec": {
   "display_name": "main",
   "language": "python",
   "name": "python3"
  },
  "language_info": {
   "codemirror_mode": {
    "name": "ipython",
    "version": 3
   },
   "file_extension": ".py",
   "mimetype": "text/x-python",
   "name": "python",
   "nbconvert_exporter": "python",
   "pygments_lexer": "ipython3",
   "version": "3.10.13"
  }
 },
 "nbformat": 4,
 "nbformat_minor": 2
}
