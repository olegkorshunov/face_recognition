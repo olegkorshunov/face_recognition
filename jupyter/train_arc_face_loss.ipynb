{
 "cells": [
  {
   "cell_type": "code",
   "execution_count": 2,
   "metadata": {},
   "outputs": [
    {
     "name": "stdout",
     "output_type": "stream",
     "text": [
      "/mnt/e/projects/face_recognition\n"
     ]
    }
   ],
   "source": [
    "%cd .."
   ]
  },
  {
   "cell_type": "code",
   "execution_count": 3,
   "metadata": {},
   "outputs": [],
   "source": [
    "from oml.losses.arcface import ArcFaceLoss\n",
    "from tqdm import tqdm\n",
    "\n",
    "import albumentations as A\n",
    "\n",
    "import torch\n",
    "import torch.nn as nn\n",
    "from albumentations.pytorch import ToTensorV2\n",
    "from oml import datasets as d\n",
    "from oml.inference import inference\n",
    "from oml.losses import TripletLossWithMiner\n",
    "from oml.metrics import calc_retrieval_metrics_rr\n",
    "from oml.miners import AllTripletsMiner\n",
    "\n",
    "from oml.retrieval import AdaptiveThresholding, RetrievalResults\n",
    "from oml.samplers import BalanceSampler\n",
    "\n",
    "from torch.optim import Adam\n",
    "from torch.utils.data import DataLoader\n",
    "from torchvision.models import efficientnet_v2_s\n",
    "from pathlib import Path\n",
    "\n",
    "from config import CFG\n",
    "from dataset import get_data_train_and_data_irm, get_valid_dataset\n",
    "\n",
    "device = \"cuda\""
   ]
  },
  {
   "cell_type": "code",
   "execution_count": 5,
   "metadata": {},
   "outputs": [],
   "source": [
    "model = efficientnet_v2_s()\n",
    "model.classifier = nn.Sequential(nn.Dropout(p=0.2), nn.Linear(in_features=1280, out_features=2024))\n",
    "model.classifier = nn.Sequential()\n",
    "model.load_state_dict(torch.load(\"./models/efficientnet_v2_s_tl_20_epoch.pth\"))\n",
    "model.eval()\n",
    "model = model.to(device)\n",
    "None"
   ]
  },
  {
   "cell_type": "code",
   "execution_count": null,
   "metadata": {},
   "outputs": [],
   "source": []
  }
 ],
 "metadata": {
  "kernelspec": {
   "display_name": "main",
   "language": "python",
   "name": "python3"
  },
  "language_info": {
   "codemirror_mode": {
    "name": "ipython",
    "version": 3
   },
   "file_extension": ".py",
   "mimetype": "text/x-python",
   "name": "python",
   "nbconvert_exporter": "python",
   "pygments_lexer": "ipython3",
   "version": "3.10.13"
  }
 },
 "nbformat": 4,
 "nbformat_minor": 2
}
